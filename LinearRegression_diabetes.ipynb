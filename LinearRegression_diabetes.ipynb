{
  "nbformat": 4,
  "nbformat_minor": 0,
  "metadata": {
    "colab": {
      "name": "LinearRegression_diabetes.ipynb",
      "provenance": [],
      "collapsed_sections": []
    },
    "kernelspec": {
      "name": "python3",
      "display_name": "Python 3"
    }
  },
  "cells": [
    {
      "cell_type": "code",
      "metadata": {
        "id": "1l0myPQ-JFRP",
        "colab_type": "code",
        "colab": {}
      },
      "source": [
        "import numpy as np\n",
        "import pandas as pd\n",
        "import matplotlib.pyplot as plt\n",
        "from sklearn.model_selection import train_test_split\n",
        "%matplotlib inline"
      ],
      "execution_count": 0,
      "outputs": []
    },
    {
      "cell_type": "code",
      "metadata": {
        "id": "s4f1-VAWLllE",
        "colab_type": "code",
        "outputId": "9c1005da-ed8d-4132-f7e9-d710640d1d59",
        "colab": {
          "base_uri": "https://localhost:8080/",
          "height": 118
        }
      },
      "source": [
        "# Reading Data\n",
        "data = pd.read_csv('/content/diabetics.csv')\n",
        "print(data.head())\n",
        "#print(data.keys)"
      ],
      "execution_count": 0,
      "outputs": [
        {
          "output_type": "stream",
          "text": [
            "   AGE  SEX   BMI     BP   S1     S2    S3   S4      S5   S6    Y\n",
            "0   35    1  41.3   81.0  168  102.8  37.0  5.0  4.9488   94  346\n",
            "1   58    2  38.0  103.0  150  107.2  22.0  7.0  4.6444   98  341\n",
            "2   58    2  36.7  117.0  166   93.8  44.0  4.0  4.9488  109  336\n",
            "3   65    2  33.5  102.0  190  126.2  35.0  5.0  4.9698  102  332\n",
            "4   54    2  36.1  115.0  163   98.4  43.0  4.0  4.6821  101  321\n"
          ],
          "name": "stdout"
        }
      ]
    },
    {
      "cell_type": "code",
      "metadata": {
        "id": "qhXssCAlMMdV",
        "colab_type": "code",
        "outputId": "32b36eb1-6832-49d8-9660-e6c361be497a",
        "colab": {
          "base_uri": "https://localhost:8080/",
          "height": 554
        }
      },
      "source": [
        "# Collecting X and Y\n",
        "X = data['BMI'].values\n",
        "Y = data['Y'].values\n",
        "print(X)"
      ],
      "execution_count": 0,
      "outputs": [
        {
          "output_type": "stream",
          "text": [
            "[41.3 38.  36.7 33.5 36.1 30.8 26.9 30.  31.6 34.6 38.2 34.3 31.6 29.\n",
            " 27.7 29.3 33.  31.4 26.3 25.2 32.9 25.8 28.8 24.4 32.1 28.3 37.8 31.\n",
            " 34.6 27.  32.8 27.4 31.8 33.3 33.2 35.4 35.3 28.1 31.6 30.6 29.5 36.1\n",
            " 27.9 31.9 28.5 28.6 28.1 34.6 35.1 31.9 28.2 25.8 34.3 32.7 38.3 26.4\n",
            " 36.6 30.8 26.5 25.5 33.8 22.8 33.  21.  24.  26.9 29.7 28.1 25.7 28.3\n",
            " 30.  32.  26.6 29.2 35.5 32.  32.1 42.2 27.8 24.5 28.2 37.  29.6 27.5\n",
            " 27.3 24.5 39.1 33.6 30.6 28.5 25.9 31.2 26.5 27.9 28.9 29.2 31.  32.8\n",
            " 33.  27.7 30.  25.8 24.6 32.3 26.1 25.1 32.  24.6 20.3 23.3 27.9 27.3\n",
            " 23.8 29.4 25.3 22.8 25.2 26.  30.6 29.2 27.8 23.  22.  26.8 24.1 35.\n",
            " 25.3 24.  30.2 29.5 26.  28.3 25.5 26.5 28.8 30.4 31.4 27.7 26.8 25.3\n",
            " 23.2 21.7 31.4 32.  26.2 23.1 22.5 29.7 21.1 28.7 27.  25.7 21.5 25.3\n",
            " 33.9 30.1 23.7 25.4 22.1 31.9 22.5 28.4 28.2 25.6 30.6 30.7 27.2 28.\n",
            " 31.5 29.2 23.5 24.7 20.4 24.  29.  24.7 25.4 23.3 29.9 30.3 31.2 25.8\n",
            " 24.1 31.3 21.  25.6 23.6 25.2 19.9 21.  24.3 25.7 30.1 23.5 20.3 23.9\n",
            " 22.6 32.1 27.3 24.9 24.7 27.3 24.2 29.5 24.5 30.1 23.  29.  27.5 26.8\n",
            " 31.  24.2 27.5 21.3 19.6 27.7 31.4 26.5 30.5 33.  26.1 23.2 35.  26.1\n",
            " 28.  22.  26.9 19.2 30.3 31.8 23.  21.2 25.8 19.3 32.  24.9 24.4 33.1\n",
            " 25.6 27.  30.5 26.7 22.9 21.8 22.9 28.  35.  22.8 27.2 25.9 23.1 25.\n",
            " 22.7 26.6 28.7 29.2 28.6 32.7 23.2 24.  27.7 23.6 25.9 19.2 20.6 26.3\n",
            " 22.1 22.9 28.1 26.3 24.5 21.9 27.4 32.1 24.1 26.2 32.4 27.  21.2 23.6\n",
            " 24.4 26.8 24.9 23.4 18.1 24.9 30.4 22.5 23.5 22.2 23.  18.6 19.  24.7\n",
            " 25.6 20.7 30.7 24.  22.6 25.4 25.  24.5 20.4 27.8 20.3 21.9 32.4 25.7\n",
            " 25.3 18.  23.3 22.8 22.2 24.2 25.9 23.5 31.9 25.2 22.7 27.7 24.8 22.2\n",
            " 29.8 18.5 24.1 20.7 26.  23.6 21.  23.7 21.7 23.4 20.9 31.9 26.6 18.8\n",
            " 30.  29.6 23.3 24.3 24.1 20.4 21.4 25.1 25.5 25.6 24.8 20.2 22.7 23.4\n",
            " 32.6 24.7 20.2 22.1 19.7 21.6 22.5 22.1 24.  26.7 22.1 20.  22.  22.6\n",
            " 18.9 20.8 24.  22.3 24.2 22.6 24.2 20.8 29.8 28.  23.6 22.1 21.1 26.\n",
            " 31.5 27.  26.9 24.1 23.5 20.5 22.7 23.3 24.1 22.4 20.9 24.2 26.2 21.2\n",
            " 21.  19.9 25.4 26.  26.9 21.3 25.5 20.3 25.5 26.8 20.2 24.1 19.6 20.1\n",
            " 19.4 23.5 33.  23.3 23.1 23.4 20.6 24.9 30.2 25.7 23.1 28.8 24.3 18.8\n",
            " 26.5 23.  24.3 19.8 26.5 19.9 26.8 19.5 24.5 22.1 20.6 26.2 23.5 23.5\n",
            " 22.6 21.3 22.8 21.2 25.6 20.5 25.6 25.4]\n"
          ],
          "name": "stdout"
        }
      ]
    },
    {
      "cell_type": "code",
      "metadata": {
        "id": "MdzOiHBMPNIY",
        "colab_type": "code",
        "outputId": "0c0686d4-dbe7-454d-fb6b-1a7a67310b03",
        "colab": {
          "base_uri": "https://localhost:8080/",
          "height": 492
        }
      },
      "source": [
        "# Histogram of the BMI\n",
        "data.BMI.plot(kind='hist',color='purple',edgecolor='black',figsize=(10,7))\n",
        "plt.title('Distribution of BMI', size=24)\n",
        "plt.xlabel('BMI(Kg/m2)', size=18)\n",
        "plt.ylabel('Frequency', size=18)"
      ],
      "execution_count": 0,
      "outputs": [
        {
          "output_type": "execute_result",
          "data": {
            "text/plain": [
              "Text(0, 0.5, 'Frequency')"
            ]
          },
          "metadata": {
            "tags": []
          },
          "execution_count": 56
        },
        {
          "output_type": "display_data",
          "data": {
            "image/png": "[encoded data removed]",
            "text/plain": [
              "<Figure size 720x504 with 1 Axes>"
            ]
          },
          "metadata": {
            "tags": []
          }
        }
      ]
    },
    {
      "cell_type": "code",
      "metadata": {
        "id": "tGngx3AtM_Wk",
        "colab_type": "code",
        "outputId": "0a31e56e-a8c5-4773-e93e-ffbfb1606a28",
        "colab": {
          "base_uri": "https://localhost:8080/",
          "height": 252
        }
      },
      "source": [
        "#LOADING FEATURES AND TARGET\n",
        "feature = pd.DataFrame(X, columns=['BMI'])\n",
        "target = pd.DataFrame(Y, columns=['TARGET'])\n",
        "data = pd.concat([feature, target], axis=1)\n",
        "print(data)"
      ],
      "execution_count": 0,
      "outputs": [
        {
          "output_type": "stream",
          "text": [
            "      BMI  TARGET\n",
            "0    41.3     346\n",
            "1    38.0     341\n",
            "2    36.7     336\n",
            "3    33.5     332\n",
            "4    36.1     321\n",
            "..    ...     ...\n",
            "437  21.2      39\n",
            "438  25.6      39\n",
            "439  20.5      37\n",
            "440  25.6      31\n",
            "441  25.4      25\n",
            "\n",
            "[442 rows x 2 columns]\n"
          ],
          "name": "stdout"
        }
      ]
    },
    {
      "cell_type": "code",
      "metadata": {
        "id": "VExJrHRuNiNR",
        "colab_type": "code",
        "outputId": "1064b64d-393a-476a-f0f1-9c894699c8e9",
        "colab": {
          "base_uri": "https://localhost:8080/",
          "height": 67
        }
      },
      "source": [
        "#PEARSON CORRELATION\n",
        "data2 = data.corr('pearson')\n",
        "abs(data2.loc['TARGET']).sort_values()"
      ],
      "execution_count": 0,
      "outputs": [
        {
          "output_type": "execute_result",
          "data": {
            "text/plain": [
              "BMI       0.58645\n",
              "TARGET    1.00000\n",
              "Name: TARGET, dtype: float64"
            ]
          },
          "metadata": {
            "tags": []
          },
          "execution_count": 36
        }
      ]
    },
    {
      "cell_type": "code",
      "metadata": {
        "id": "E94dOnOqOCxG",
        "colab_type": "code",
        "colab": {}
      },
      "source": [
        "#MIN-MAX NORMALIZING\n",
        "X = np.array((X - X.min())/(X.max() - X.min()))\n",
        "\n",
        "Y = np.array((Y - Y.min())/(Y.max() - Y.min()))"
      ],
      "execution_count": 0,
      "outputs": []
    },
    {
      "cell_type": "code",
      "metadata": {
        "id": "ZleT3JdDOIm9",
        "colab_type": "code",
        "outputId": "6e5a0d38-6108-49bf-d765-22d780f3a071",
        "colab": {
          "base_uri": "https://localhost:8080/",
          "height": 1000
        }
      },
      "source": [
        "print(X)"
      ],
      "execution_count": 0,
      "outputs": [
        {
          "output_type": "stream",
          "text": [
            "[0.96280992 0.82644628 0.77272727 0.64049587 0.74793388 0.52892562\n",
            " 0.3677686  0.49586777 0.56198347 0.68595041 0.83471074 0.67355372\n",
            " 0.56198347 0.45454545 0.40082645 0.46694215 0.61983471 0.55371901\n",
            " 0.34297521 0.29752066 0.61570248 0.32231405 0.44628099 0.26446281\n",
            " 0.58264463 0.42561983 0.81818182 0.53719008 0.68595041 0.37190083\n",
            " 0.61157025 0.38842975 0.57024793 0.6322314  0.62809917 0.71900826\n",
            " 0.71487603 0.41735537 0.56198347 0.52066116 0.47520661 0.74793388\n",
            " 0.40909091 0.57438017 0.4338843  0.43801653 0.41735537 0.68595041\n",
            " 0.70661157 0.57438017 0.4214876  0.32231405 0.67355372 0.60743802\n",
            " 0.83884298 0.34710744 0.76859504 0.52892562 0.35123967 0.30991736\n",
            " 0.65289256 0.19834711 0.61983471 0.12396694 0.24793388 0.3677686\n",
            " 0.48347107 0.41735537 0.31818182 0.42561983 0.49586777 0.5785124\n",
            " 0.3553719  0.46280992 0.7231405  0.5785124  0.58264463 1.\n",
            " 0.40495868 0.26859504 0.4214876  0.78512397 0.47933884 0.39256198\n",
            " 0.38429752 0.26859504 0.87190083 0.6446281  0.52066116 0.4338843\n",
            " 0.32644628 0.54545455 0.35123967 0.40909091 0.45041322 0.46280992\n",
            " 0.53719008 0.61157025 0.61983471 0.40082645 0.49586777 0.32231405\n",
            " 0.27272727 0.59090909 0.33471074 0.29338843 0.5785124  0.27272727\n",
            " 0.09504132 0.21900826 0.40909091 0.38429752 0.23966942 0.47107438\n",
            " 0.30165289 0.19834711 0.29752066 0.33057851 0.52066116 0.46280992\n",
            " 0.40495868 0.20661157 0.16528926 0.36363636 0.25206612 0.70247934\n",
            " 0.30165289 0.24793388 0.50413223 0.47520661 0.33057851 0.42561983\n",
            " 0.30991736 0.35123967 0.44628099 0.51239669 0.55371901 0.40082645\n",
            " 0.36363636 0.30165289 0.21487603 0.15289256 0.55371901 0.5785124\n",
            " 0.33884298 0.2107438  0.18595041 0.48347107 0.12809917 0.44214876\n",
            " 0.37190083 0.31818182 0.1446281  0.30165289 0.65702479 0.5\n",
            " 0.23553719 0.30578512 0.16942149 0.57438017 0.18595041 0.42975207\n",
            " 0.4214876  0.31404959 0.52066116 0.52479339 0.38016529 0.41322314\n",
            " 0.55785124 0.46280992 0.22727273 0.2768595  0.09917355 0.24793388\n",
            " 0.45454545 0.2768595  0.30578512 0.21900826 0.49173554 0.50826446\n",
            " 0.54545455 0.32231405 0.25206612 0.54958678 0.12396694 0.31404959\n",
            " 0.23140496 0.29752066 0.0785124  0.12396694 0.26033058 0.31818182\n",
            " 0.5        0.22727273 0.09504132 0.24380165 0.19008264 0.58264463\n",
            " 0.38429752 0.28512397 0.2768595  0.38429752 0.25619835 0.47520661\n",
            " 0.26859504 0.5        0.20661157 0.45454545 0.39256198 0.36363636\n",
            " 0.53719008 0.25619835 0.39256198 0.13636364 0.0661157  0.40082645\n",
            " 0.55371901 0.35123967 0.51652893 0.61983471 0.33471074 0.21487603\n",
            " 0.70247934 0.33471074 0.41322314 0.16528926 0.3677686  0.04958678\n",
            " 0.50826446 0.57024793 0.20661157 0.1322314  0.32231405 0.05371901\n",
            " 0.5785124  0.28512397 0.26446281 0.62396694 0.31404959 0.37190083\n",
            " 0.51652893 0.35950413 0.20247934 0.15702479 0.20247934 0.41322314\n",
            " 0.70247934 0.19834711 0.38016529 0.32644628 0.2107438  0.2892562\n",
            " 0.19421488 0.3553719  0.44214876 0.46280992 0.43801653 0.60743802\n",
            " 0.21487603 0.24793388 0.40082645 0.23140496 0.32644628 0.04958678\n",
            " 0.10743802 0.34297521 0.16942149 0.20247934 0.41735537 0.34297521\n",
            " 0.26859504 0.16115702 0.38842975 0.58264463 0.25206612 0.33884298\n",
            " 0.59504132 0.37190083 0.1322314  0.23140496 0.26446281 0.36363636\n",
            " 0.28512397 0.2231405  0.00413223 0.28512397 0.51239669 0.18595041\n",
            " 0.22727273 0.17355372 0.20661157 0.02479339 0.04132231 0.2768595\n",
            " 0.31404959 0.11157025 0.52479339 0.24793388 0.19008264 0.30578512\n",
            " 0.2892562  0.26859504 0.09917355 0.40495868 0.09504132 0.16115702\n",
            " 0.59504132 0.31818182 0.30165289 0.         0.21900826 0.19834711\n",
            " 0.17355372 0.25619835 0.32644628 0.22727273 0.57438017 0.29752066\n",
            " 0.19421488 0.40082645 0.28099174 0.17355372 0.48760331 0.02066116\n",
            " 0.25206612 0.11157025 0.33057851 0.23140496 0.12396694 0.23553719\n",
            " 0.15289256 0.2231405  0.11983471 0.57438017 0.3553719  0.03305785\n",
            " 0.49586777 0.47933884 0.21900826 0.26033058 0.25206612 0.09917355\n",
            " 0.14049587 0.29338843 0.30991736 0.31404959 0.28099174 0.09090909\n",
            " 0.19421488 0.2231405  0.60330579 0.2768595  0.09090909 0.16942149\n",
            " 0.07024793 0.14876033 0.18595041 0.16942149 0.24793388 0.35950413\n",
            " 0.16942149 0.08264463 0.16528926 0.19008264 0.03719008 0.11570248\n",
            " 0.24793388 0.17768595 0.25619835 0.19008264 0.25619835 0.11570248\n",
            " 0.48760331 0.41322314 0.23140496 0.16942149 0.12809917 0.33057851\n",
            " 0.55785124 0.37190083 0.3677686  0.25206612 0.22727273 0.10330579\n",
            " 0.19421488 0.21900826 0.25206612 0.18181818 0.11983471 0.25619835\n",
            " 0.33884298 0.1322314  0.12396694 0.0785124  0.30578512 0.33057851\n",
            " 0.3677686  0.13636364 0.30991736 0.09504132 0.30991736 0.36363636\n",
            " 0.09090909 0.25206612 0.0661157  0.08677686 0.05785124 0.22727273\n",
            " 0.61983471 0.21900826 0.2107438  0.2231405  0.10743802 0.28512397\n",
            " 0.50413223 0.31818182 0.2107438  0.44628099 0.26033058 0.03305785\n",
            " 0.35123967 0.20661157 0.26033058 0.07438017 0.35123967 0.0785124\n",
            " 0.36363636 0.06198347 0.26859504 0.16942149 0.10743802 0.33884298\n",
            " 0.22727273 0.22727273 0.19008264 0.13636364 0.19834711 0.1322314\n",
            " 0.31404959 0.10330579 0.31404959 0.30578512]\n"
          ],
          "name": "stdout"
        }
      ]
    },
    {
      "cell_type": "code",
      "metadata": {
        "id": "JAX0rsgsOSAV",
        "colab_type": "code",
        "colab": {}
      },
      "source": [
        "x_train, x_test, y_train, y_test = train_test_split(X, Y, test_size = 0.2)"
      ],
      "execution_count": 0,
      "outputs": []
    },
    {
      "cell_type": "code",
      "metadata": {
        "id": "rzOz7YtjOW_u",
        "colab_type": "code",
        "outputId": "2d3a0c07-43a8-4063-8953-4cffcf4ca36b",
        "colab": {
          "base_uri": "https://localhost:8080/",
          "height": 282
        }
      },
      "source": [
        "plt.plot(x_train, y_train, 'r.')"
      ],
      "execution_count": 0,
      "outputs": [
        {
          "output_type": "execute_result",
          "data": {
            "text/plain": [
              "[<matplotlib.lines.Line2D at 0x7fae0c9ce128>]"
            ]
          },
          "metadata": {
            "tags": []
          },
          "execution_count": 40
        },
        {
          "output_type": "display_data",
          "data": {
            "image/png": "[encoded data removed]",
            "text/plain": [
              "<Figure size 432x288 with 1 Axes>"
            ]
          },
          "metadata": {
            "tags": []
          }
        }
      ]
    },
    {
      "cell_type": "code",
      "metadata": {
        "id": "774EDDobOe7V",
        "colab_type": "code",
        "outputId": "b2c1165f-d537-41b0-82b5-4126af274791",
        "colab": {
          "base_uri": "https://localhost:8080/",
          "height": 282
        }
      },
      "source": [
        "plt.plot(x_test, y_test, 'r.')"
      ],
      "execution_count": 0,
      "outputs": [
        {
          "output_type": "execute_result",
          "data": {
            "text/plain": [
              "[<matplotlib.lines.Line2D at 0x7fae0c9229e8>]"
            ]
          },
          "metadata": {
            "tags": []
          },
          "execution_count": 41
        },
        {
          "output_type": "display_data",
          "data": {
            "image/png": "[encoded data removed]",
            "text/plain": [
              "<Figure size 432x288 with 1 Axes>"
            ]
          },
          "metadata": {
            "tags": []
          }
        }
      ]
    },
    {
      "cell_type": "code",
      "metadata": {
        "id": "Tw2Rmj6uOrgO",
        "colab_type": "code",
        "colab": {}
      },
      "source": [
        "def hypothesis(a,b,x):\n",
        "    return a * x  + b"
      ],
      "execution_count": 0,
      "outputs": []
    },
    {
      "cell_type": "code",
      "metadata": {
        "id": "s9vgMwPzOvwI",
        "colab_type": "code",
        "colab": {}
      },
      "source": [
        "def error(a,b,x,y):\n",
        "    e = 0\n",
        "    m = len(y)\n",
        "    for i in range(m):\n",
        "        e += np.power((hypothesis(a,b,x[i]) - y[i]), 2)\n",
        "    \n",
        "    return (1/(2 * m)) * e"
      ],
      "execution_count": 0,
      "outputs": []
    },
    {
      "cell_type": "code",
      "metadata": {
        "id": "iYLkTHRqO0hh",
        "colab_type": "code",
        "colab": {}
      },
      "source": [
        "def step_gradient(a,b,x,y,learning_rate):\n",
        "    grad_a = 0\n",
        "    grad_b = 0\n",
        "    m = len(x)\n",
        "    for i in range(m):\n",
        "        grad_a += 1/m * (hypothesis(a,b,x[i]) - y[i]) * x[i]\n",
        "        grad_b += 1/m * (hypothesis(a,b,x[i]) - y[i])\n",
        "    \n",
        "    a = a - (grad_a * learning_rate)\n",
        "    b = b - (grad_b * learning_rate)\n",
        "    \n",
        "    return a, b"
      ],
      "execution_count": 0,
      "outputs": []
    },
    {
      "cell_type": "code",
      "metadata": {
        "id": "kSL2XcbeO5SE",
        "colab_type": "code",
        "colab": {}
      },
      "source": [
        "def descend(initial_a, initial_b, x, y, learning_rate, iterations):\n",
        "    a = initial_a\n",
        "    b = initial_b\n",
        "    for i in range(iterations):\n",
        "        e = error(a, b, x ,y)\n",
        "        if i % 1000 == 0:\n",
        "            print(f\"Error: {e}, a: {a}, b: {b}\")\n",
        "        \n",
        "        a, b = step_gradient(a, b, x, y, learning_rate)\n",
        "\n",
        "    return a, b"
      ],
      "execution_count": 0,
      "outputs": []
    },
    {
      "cell_type": "code",
      "metadata": {
        "id": "xDEwN_nsO91I",
        "colab_type": "code",
        "outputId": "9cf9b82a-6daa-4db1-b536-91247b8367fd",
        "colab": {
          "base_uri": "https://localhost:8080/",
          "height": 185
        }
      },
      "source": [
        "a = 0\n",
        "b = 1\n",
        "learning_rate = 0.01\n",
        "iterations = 10000\n",
        "\n",
        "final_a, final_b = descend(a, b, x_train, y_train, learning_rate, iterations)"
      ],
      "execution_count": 0,
      "outputs": [
        {
          "output_type": "stream",
          "text": [
            "Error: 0.21252562272511072, a: 0, b: 1\n",
            "Error: 0.02889993703905731, a: 0.07350586108758966, b: 0.3797986715096099\n",
            "Error: 0.024636958187546316, a: 0.2674189365559359, b: 0.3110524569775638\n",
            "Error: 0.022276697270252076, a: 0.41170878876920175, b: 0.2599042708004156\n",
            "Error: 0.02096990410327317, a: 0.5190729186079425, b: 0.22184559649034225\n",
            "Error: 0.020246378848607565, a: 0.5989611172362446, b: 0.1935266510717968\n",
            "Error: 0.019845788451162208, a: 0.6584048466239, b: 0.17245490634719599\n",
            "Error: 0.019623995686513507, a: 0.7026361226344324, b: 0.15677570575634536\n",
            "Error: 0.019501196860669895, a: 0.7355480175924615, b: 0.14510902440740406\n",
            "Error: 0.019433207484855716, a: 0.7600373140231231, b: 0.13642800442114564\n"
          ],
          "name": "stdout"
        }
      ]
    },
    {
      "cell_type": "code",
      "metadata": {
        "id": "w1AAlUN_PH5G",
        "colab_type": "code",
        "outputId": "a3d546b9-afa4-4606-a795-43f1d8603bda",
        "colab": {
          "base_uri": "https://localhost:8080/",
          "height": 67
        }
      },
      "source": [
        "print(error(a,b,x_train,y_train))\n",
        "print(error(final_a, final_b, x_train, y_train))\n",
        "print(error(final_a, final_b, x_test, y_test))"
      ],
      "execution_count": 0,
      "outputs": [
        {
          "output_type": "stream",
          "text": [
            "0.21252562272511072\n",
            "0.019395564167080923\n",
            "0.016856611785285202\n"
          ],
          "name": "stdout"
        }
      ]
    },
    {
      "cell_type": "code",
      "metadata": {
        "id": "svPuXDF9PQjI",
        "colab_type": "code",
        "outputId": "9a2457e0-c922-4e6d-8ed7-c1fe2cb05287",
        "colab": {
          "base_uri": "https://localhost:8080/",
          "height": 315
        }
      },
      "source": [
        "plt.plot(x_train, y_train, 'r.', x_train, hypothesis(a, b, x_train), 'g', x_train, hypothesis(final_a, final_b, x_train), 'b', )"
      ],
      "execution_count": 0,
      "outputs": [
        {
          "output_type": "execute_result",
          "data": {
            "text/plain": [
              "[<matplotlib.lines.Line2D at 0x7fae0c908978>,\n",
              " <matplotlib.lines.Line2D at 0x7fae0c908a58>,\n",
              " <matplotlib.lines.Line2D at 0x7fae0c908be0>]"
            ]
          },
          "metadata": {
            "tags": []
          },
          "execution_count": 48
        },
        {
          "output_type": "display_data",
          "data": {
            "image/png": "[encoded data removed]",
            "text/plain": [
              "<Figure size 432x288 with 1 Axes>"
            ]
          },
          "metadata": {
            "tags": []
          }
        }
      ]
    },
    {
      "cell_type": "code",
      "metadata": {
        "id": "lJTEgMFbPYT4",
        "colab_type": "code",
        "outputId": "fda2e1ee-f277-4d1b-d93d-b010600fb2e4",
        "colab": {
          "base_uri": "https://localhost:8080/",
          "height": 298
        }
      },
      "source": [
        "plt.plot(x_test, y_test, 'r.', x_test, hypothesis(final_a, final_b, x_test), 'g')"
      ],
      "execution_count": 0,
      "outputs": [
        {
          "output_type": "execute_result",
          "data": {
            "text/plain": [
              "[<matplotlib.lines.Line2D at 0x7fae0c86ba20>,\n",
              " <matplotlib.lines.Line2D at 0x7fae0c86bb00>]"
            ]
          },
          "metadata": {
            "tags": []
          },
          "execution_count": 49
        },
        {
          "output_type": "display_data",
          "data": {
            "image/png": "[encoded data removed]",
            "text/plain": [
              "<Figure size 432x288 with 1 Axes>"
            ]
          },
          "metadata": {
            "tags": []
          }
        }
      ]
    },
    {
      "cell_type": "code",
      "metadata": {
        "id": "19QRetgdPiIE",
        "colab_type": "code",
        "outputId": "5468711c-a5d3-4af9-884d-28fd2dcc60a1",
        "colab": {
          "base_uri": "https://localhost:8080/",
          "height": 34
        }
      },
      "source": [
        "print(str((1-error(final_a, final_b,x_test, y_test))*100) + \" %\")"
      ],
      "execution_count": 0,
      "outputs": [
        {
          "output_type": "stream",
          "text": [
            "98.31433882147148 %\n"
          ],
          "name": "stdout"
        }
      ]
    }
  ]
}